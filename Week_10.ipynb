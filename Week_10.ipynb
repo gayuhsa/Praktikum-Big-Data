{
  "cells": [
    {
      "cell_type": "code",
      "execution_count": null,
      "id": "5bc3fb79-9956-4f30-b6f0-d01cf6f32012",
      "metadata": {
        "id": "5bc3fb79-9956-4f30-b6f0-d01cf6f32012",
        "outputId": "da355258-27fc-42d4-82cb-cb4b2748a417"
      },
      "outputs": [
        {
          "name": "stdout",
          "output_type": "stream",
          "text": [
            "Collecting pymongo\n",
            "  Downloading pymongo-4.15.3-cp313-cp313-manylinux2014_x86_64.manylinux_2_17_x86_64.manylinux_2_28_x86_64.whl.metadata (22 kB)\n",
            "Collecting dnspython<3.0.0,>=1.16.0 (from pymongo)\n",
            "  Downloading dnspython-2.8.0-py3-none-any.whl.metadata (5.7 kB)\n",
            "Downloading pymongo-4.15.3-cp313-cp313-manylinux2014_x86_64.manylinux_2_17_x86_64.manylinux_2_28_x86_64.whl (2.0 MB)\n",
            "\u001b[2K   \u001b[38;2;114;156;31m━━━━━━━━━━━━━━━━━━━━━━━━━━━━━━━━━━━━━━━━\u001b[0m \u001b[32m2.0/2.0 MB\u001b[0m \u001b[31m6.8 MB/s\u001b[0m eta \u001b[36m0:00:00\u001b[0m8 MB/s\u001b[0m eta \u001b[36m0:00:01\u001b[0m\n",
            "Downloading dnspython-2.8.0-py3-none-any.whl (331 kB)\n",
            "Installing collected packages: dnspython, pymongo\n",
            "\u001b[2K   \u001b[38;2;114;156;31m━━━━━━━━━━━━━━━━━━━━━━━━━━━━━━━━━━━━━━━━\u001b[0m \u001b[32m2/2\u001b[0m [pymongo]━━━\u001b[0m \u001b[32m1/2\u001b[0m [pymongo]\n",
            "Successfully installed dnspython-2.8.0 pymongo-4.15.3\n"
          ]
        }
      ],
      "source": [
        "!pip install pymongo"
      ]
    },
    {
      "cell_type": "markdown",
      "source": [
        "### 1. Connecting to a MongoDB Database\n",
        "- **Task 1**: Ensure that MongoDB is installed and running. Connect to your local MongoDB server."
      ],
      "metadata": {
        "id": "8WGItG9cO7dL"
      },
      "id": "8WGItG9cO7dL"
    },
    {
      "cell_type": "code",
      "execution_count": 19,
      "id": "dc374dc9-3560-4c33-951f-64f568145668",
      "metadata": {
        "colab": {
          "base_uri": "https://localhost:8080/"
        },
        "id": "dc374dc9-3560-4c33-951f-64f568145668",
        "outputId": "d649ab2f-ca1a-416e-fb45-97012ecf7f52"
      },
      "outputs": [
        {
          "output_type": "stream",
          "name": "stdout",
          "text": [
            "Connected to MongoDB\n"
          ]
        }
      ],
      "source": [
        "from pymongo import MongoClient\n",
        "\n",
        "client = MongoClient(\"mongodb://localhost:27017/\")\n",
        "db = client[\"company_db\"]\n",
        "collection = db[\"employees\"]\n",
        "products = db[\"products\"]\n",
        "\n",
        "print(\"Connected to MongoDB\")"
      ]
    },
    {
      "cell_type": "markdown",
      "source": [
        "### 2. Basic CRUD Operations\n",
        "- **Task 2**: Insert, Update, and Delete data in the `employees` collection."
      ],
      "metadata": {
        "id": "Ul4ldLnlPCKn"
      },
      "id": "Ul4ldLnlPCKn"
    },
    {
      "cell_type": "code",
      "execution_count": 39,
      "id": "41537234-f914-49ad-bdd9-bd01a961ecfc",
      "metadata": {
        "colab": {
          "base_uri": "https://localhost:8080/"
        },
        "id": "41537234-f914-49ad-bdd9-bd01a961ecfc",
        "outputId": "f30cfa9a-cc56-4d60-d44c-4592d0374bfd"
      },
      "outputs": [
        {
          "output_type": "stream",
          "name": "stdout",
          "text": [
            "The entire collection after a single data is inserted:\n",
            "{'_id': ObjectId('69042cd6ffb399241cce4230'), 'name': 'Alice', 'department': 'Finance', 'age': 29, 'salary': 4500}\n",
            "\n",
            "The entire collection after multiple data are inserted:\n",
            "{'_id': ObjectId('69042cd6ffb399241cce4230'), 'name': 'Alice', 'department': 'Finance', 'age': 29, 'salary': 4500}\n",
            "{'_id': ObjectId('69042cd6ffb399241cce4231'), 'name': 'John', 'department': 'Finance', 'age': 31, 'salary': 4600}\n",
            "{'_id': ObjectId('69042cd6ffb399241cce4232'), 'name': 'Jane', 'department': 'HR', 'age': 30, 'salary': 4400}\n",
            "{'_id': ObjectId('69042cd6ffb399241cce4233'), 'name': 'Smith', 'department': 'Finance', 'age': 32, 'salary': 4300}\n",
            "{'_id': ObjectId('69042cd6ffb399241cce4234'), 'name': 'Andy', 'department': 'Sales', 'age': 32, 'salary': 4400}\n",
            "{'_id': ObjectId('69042cd6ffb399241cce4235'), 'name': 'Carl', 'department': 'Sales', 'age': 32, 'salary': 4500}\n"
          ]
        }
      ],
      "source": [
        "# Start with an empty collection\n",
        "collection.delete_many({})\n",
        "\n",
        "# Insert operations\n",
        "\n",
        "employee_data = {\n",
        "    \"name\": \"Alice\",\n",
        "    \"department\": \"Finance\",\n",
        "    \"age\": 29,\n",
        "    \"salary\": 4500\n",
        "}\n",
        "\n",
        "collection.insert_one(employee_data)\n",
        "\n",
        "print(\"The entire collection after a single data is inserted:\")\n",
        "for employee in collection.find():\n",
        "    print(employee)\n",
        "\n",
        "multiple_data = [\n",
        "    {\"name\": \"John\", \"department\": \"Finance\", \"age\": 31, \"salary\": 4600},\n",
        "    {\"name\": \"Jane\", \"department\": \"HR\", \"age\": 30, \"salary\": 4400},\n",
        "    {\"name\": \"Smith\", \"department\": \"Finance\", \"age\": 32, \"salary\": 4300},\n",
        "    {\"name\": \"Andy\", \"department\": \"Sales\", \"age\": 32, \"salary\": 4400},\n",
        "    {\"name\": \"Carl\", \"department\": \"Sales\", \"age\": 32, \"salary\": 4500},\n",
        "]\n",
        "collection.insert_many(multiple_data)\n",
        "\n",
        "print(\"\\nThe entire collection after multiple data are inserted:\")\n",
        "for employee in collection.find():\n",
        "    print(employee)"
      ]
    },
    {
      "cell_type": "code",
      "source": [
        "# Update operations\n",
        "\n",
        "query_filter = {\"name\": \"Smith\"}\n",
        "update_operation = {\"$set\": {\"department\": \"HR\"}}\n",
        "result = collection.update_one(query_filter, update_operation)\n",
        "\n",
        "print(f\"\\nUpdated {result.modified_count} document:\")\n",
        "for employee in collection.find():\n",
        "    print(employee)\n",
        "\n",
        "query_filter = {\"salary\": {\"$lt\": 4500}}\n",
        "update_operation = {\"$set\": {\"salary\": 5000}}\n",
        "result = collection.update_many(query_filter, update_operation)\n",
        "\n",
        "print(f\"\\nUpdated {result.modified_count} documents:\")\n",
        "for employee in collection.find():\n",
        "    print(employee)"
      ],
      "metadata": {
        "colab": {
          "base_uri": "https://localhost:8080/"
        },
        "id": "CPdjHpqCRPzI",
        "outputId": "619b4873-56a6-456a-ad80-725b5f2db9c5"
      },
      "id": "CPdjHpqCRPzI",
      "execution_count": 40,
      "outputs": [
        {
          "output_type": "stream",
          "name": "stdout",
          "text": [
            "\n",
            "Updated 1 document:\n",
            "{'_id': ObjectId('69042cd6ffb399241cce4230'), 'name': 'Alice', 'department': 'Finance', 'age': 29, 'salary': 4500}\n",
            "{'_id': ObjectId('69042cd6ffb399241cce4231'), 'name': 'John', 'department': 'Finance', 'age': 31, 'salary': 4600}\n",
            "{'_id': ObjectId('69042cd6ffb399241cce4232'), 'name': 'Jane', 'department': 'HR', 'age': 30, 'salary': 4400}\n",
            "{'_id': ObjectId('69042cd6ffb399241cce4233'), 'name': 'Smith', 'department': 'HR', 'age': 32, 'salary': 4300}\n",
            "{'_id': ObjectId('69042cd6ffb399241cce4234'), 'name': 'Andy', 'department': 'Sales', 'age': 32, 'salary': 4400}\n",
            "{'_id': ObjectId('69042cd6ffb399241cce4235'), 'name': 'Carl', 'department': 'Sales', 'age': 32, 'salary': 4500}\n",
            "\n",
            "Updated 3 documents:\n",
            "{'_id': ObjectId('69042cd6ffb399241cce4230'), 'name': 'Alice', 'department': 'Finance', 'age': 29, 'salary': 4500}\n",
            "{'_id': ObjectId('69042cd6ffb399241cce4231'), 'name': 'John', 'department': 'Finance', 'age': 31, 'salary': 4600}\n",
            "{'_id': ObjectId('69042cd6ffb399241cce4232'), 'name': 'Jane', 'department': 'HR', 'age': 30, 'salary': 5000}\n",
            "{'_id': ObjectId('69042cd6ffb399241cce4233'), 'name': 'Smith', 'department': 'HR', 'age': 32, 'salary': 5000}\n",
            "{'_id': ObjectId('69042cd6ffb399241cce4234'), 'name': 'Andy', 'department': 'Sales', 'age': 32, 'salary': 5000}\n",
            "{'_id': ObjectId('69042cd6ffb399241cce4235'), 'name': 'Carl', 'department': 'Sales', 'age': 32, 'salary': 4500}\n"
          ]
        }
      ]
    },
    {
      "cell_type": "code",
      "source": [
        "# Delete operations\n",
        "\n",
        "query_filter = {\"salary\": 5000}\n",
        "result = collection.delete_one(query_filter)\n",
        "\n",
        "print(f\"Deleted {result.deleted_count} document:\")\n",
        "for employee in collection.find():\n",
        "    print(employee)\n",
        "\n",
        "query_filter = {\"department\": \"Sales\"}\n",
        "result = collection.delete_many(query_filter)\n",
        "\n",
        "print(f\"\\nDeleted {result.deleted_count} documents:\")\n",
        "for employee in collection.find():\n",
        "    print(employee)"
      ],
      "metadata": {
        "colab": {
          "base_uri": "https://localhost:8080/"
        },
        "id": "Yr5Wnj2pRQoH",
        "outputId": "c4de64f2-f097-4b7a-9f33-246169a6c21a"
      },
      "id": "Yr5Wnj2pRQoH",
      "execution_count": 41,
      "outputs": [
        {
          "output_type": "stream",
          "name": "stdout",
          "text": [
            "Deleted 1 document:\n",
            "{'_id': ObjectId('69042cd6ffb399241cce4230'), 'name': 'Alice', 'department': 'Finance', 'age': 29, 'salary': 4500}\n",
            "{'_id': ObjectId('69042cd6ffb399241cce4231'), 'name': 'John', 'department': 'Finance', 'age': 31, 'salary': 4600}\n",
            "{'_id': ObjectId('69042cd6ffb399241cce4233'), 'name': 'Smith', 'department': 'HR', 'age': 32, 'salary': 5000}\n",
            "{'_id': ObjectId('69042cd6ffb399241cce4234'), 'name': 'Andy', 'department': 'Sales', 'age': 32, 'salary': 5000}\n",
            "{'_id': ObjectId('69042cd6ffb399241cce4235'), 'name': 'Carl', 'department': 'Sales', 'age': 32, 'salary': 4500}\n",
            "\n",
            "Deleted 2 documents:\n",
            "{'_id': ObjectId('69042cd6ffb399241cce4230'), 'name': 'Alice', 'department': 'Finance', 'age': 29, 'salary': 4500}\n",
            "{'_id': ObjectId('69042cd6ffb399241cce4231'), 'name': 'John', 'department': 'Finance', 'age': 31, 'salary': 4600}\n",
            "{'_id': ObjectId('69042cd6ffb399241cce4233'), 'name': 'Smith', 'department': 'HR', 'age': 32, 'salary': 5000}\n"
          ]
        }
      ]
    },
    {
      "cell_type": "markdown",
      "source": [
        "### 3. More Complex Queries Using Aggregation\n",
        "- **Task 3**: Apply aggregation to calculate the average salary per department."
      ],
      "metadata": {
        "id": "CMlJ_sDWT5dn"
      },
      "id": "CMlJ_sDWT5dn"
    },
    {
      "cell_type": "code",
      "execution_count": 42,
      "id": "c914acbe-fe90-4107-9b9f-3f4c3d9bbfde",
      "metadata": {
        "colab": {
          "base_uri": "https://localhost:8080/"
        },
        "id": "c914acbe-fe90-4107-9b9f-3f4c3d9bbfde",
        "outputId": "d255efd4-f5ac-43a2-bc7f-00b16cd7d976"
      },
      "outputs": [
        {
          "output_type": "stream",
          "name": "stdout",
          "text": [
            "{'_id': 'Finance', 'average_salary': 4550.0}\n",
            "{'_id': 'HR', 'average_salary': 5000.0}\n"
          ]
        }
      ],
      "source": [
        "pipeline = [\n",
        "    {\"$group\": {\"_id\": \"$department\", \"average_salary\": {\"$avg\": \"$salary\"}}}\n",
        "]\n",
        "\n",
        "for result in collection.aggregate(pipeline):\n",
        "    print(result)"
      ]
    },
    {
      "cell_type": "markdown",
      "source": [
        "### 4. Additional Exercises\n",
        "- **Exercise 4.1**: Create a new collection called `products` and enter product data (minimum 10 products).\n",
        "- **Exercise 4.2**: Run a query to find products with above-average prices.\n",
        "- **Exercise 4.3**: Create an aggregation pipeline to calculate the total number of products in each category."
      ],
      "metadata": {
        "id": "yIc90I1bULDF"
      },
      "id": "yIc90I1bULDF"
    },
    {
      "cell_type": "code",
      "execution_count": 58,
      "id": "379b9ffd-bc0e-4565-803c-6c74150082ab",
      "metadata": {
        "colab": {
          "base_uri": "https://localhost:8080/"
        },
        "id": "379b9ffd-bc0e-4565-803c-6c74150082ab",
        "outputId": "6ff4d396-fec5-4254-f76e-4b151c2d2475"
      },
      "outputs": [
        {
          "output_type": "stream",
          "name": "stdout",
          "text": [
            "{'_id': ObjectId('6904306effb399241cce4290'), 'name': 'Laptop', 'price': 1200, 'stock': 22, 'category': 'Electronics'}\n",
            "{'_id': ObjectId('6904306effb399241cce4291'), 'name': 'Television', 'price': 800, 'stock': 32, 'category': 'Electronics'}\n",
            "{'_id': ObjectId('6904306effb399241cce4292'), 'name': 'Smartphone', 'price': 900, 'stock': 54, 'category': 'Electronics'}\n",
            "{'_id': ObjectId('6904306effb399241cce4293'), 'name': 'Pants', 'price': 8, 'stock': 23, 'category': 'Clothes'}\n",
            "{'_id': ObjectId('6904306effb399241cce4294'), 'name': 'Snack', 'price': 2, 'stock': 45, 'category': 'Foods'}\n",
            "{'_id': ObjectId('6904306effb399241cce4295'), 'name': 'Book', 'price': 8, 'stock': 76, 'category': 'Stationery'}\n",
            "{'_id': ObjectId('6904306effb399241cce4296'), 'name': 'Keyboard', 'price': 90, 'stock': 98, 'category': 'Electronics'}\n",
            "{'_id': ObjectId('6904306effb399241cce4297'), 'name': 'Bag', 'price': 12, 'stock': 12, 'category': 'Clothes'}\n",
            "{'_id': ObjectId('6904306effb399241cce4298'), 'name': 'Monitor', 'price': 400, 'stock': 3, 'category': 'Electronics'}\n",
            "{'_id': ObjectId('6904306effb399241cce4299'), 'name': 'Shirt', 'price': 8, 'stock': 47, 'category': 'Clothes'}\n",
            "{'_id': ObjectId('6904306effb399241cce429a'), 'name': 'Hat', 'price': 6, 'stock': 18, 'category': 'Clothes'}\n",
            "{'_id': ObjectId('6904306effb399241cce429b'), 'name': 'Jacket', 'price': 9, 'stock': 33, 'category': 'Clothes'}\n",
            "{'_id': ObjectId('6904306effb399241cce429c'), 'name': 'Headphones', 'price': 10, 'stock': 11, 'category': 'Electronics'}\n",
            "{'_id': ObjectId('6904306effb399241cce429d'), 'name': 'Shoes', 'price': 12, 'stock': 86, 'category': 'Clothes'}\n",
            "{'_id': ObjectId('6904306effb399241cce429e'), 'name': 'Charger', 'price': 8, 'stock': 45, 'category': 'Electronics'}\n"
          ]
        }
      ],
      "source": [
        "# Start with an empty collection\n",
        "products.delete_many({})\n",
        "\n",
        "# Create a new collection called products and enter product data (minimum 10 products).\n",
        "\n",
        "products.insert_many([\n",
        "    {\"name\": \"Laptop\", \"price\": 1200, \"stock\": 22, \"category\": \"Electronics\"},\n",
        "    {\"name\": \"Television\", \"price\": 800, \"stock\": 32, \"category\": \"Electronics\"},\n",
        "    {\"name\": \"Smartphone\", \"price\": 900, \"stock\": 54, \"category\": \"Electronics\"},\n",
        "    {\"name\": \"Pants\", \"price\": 8, \"stock\": 23, \"category\": \"Clothes\"},\n",
        "    {\"name\": \"Snack\", \"price\": 2, \"stock\": 45, \"category\": \"Foods\"},\n",
        "    {\"name\": \"Book\", \"price\": 8, \"stock\": 76, \"category\": \"Stationery\"},\n",
        "    {\"name\": \"Keyboard\", \"price\": 90, \"stock\": 98, \"category\": \"Electronics\"},\n",
        "    {\"name\": \"Bag\", \"price\": 12, \"stock\": 12, \"category\": \"Clothes\"},\n",
        "    {\"name\": \"Monitor\", \"price\": 400, \"stock\": 3, \"category\": \"Electronics\"},\n",
        "    {\"name\": \"Shirt\", \"price\": 8, \"stock\": 47, \"category\": \"Clothes\"},\n",
        "    {\"name\": \"Hat\", \"price\": 6, \"stock\": 18, \"category\": \"Clothes\"},\n",
        "    {\"name\": \"Jacket\", \"price\": 9, \"stock\": 33, \"category\": \"Clothes\"},\n",
        "    {\"name\": \"Headphones\", \"price\": 10, \"stock\": 11, \"category\": \"Electronics\"},\n",
        "    {\"name\": \"Shoes\", \"price\": 12, \"stock\": 86, \"category\": \"Clothes\"},\n",
        "    {\"name\": \"Charger\", \"price\": 8, \"stock\": 45, \"category\": \"Electronics\"}\n",
        "])\n",
        "\n",
        "for product in products.find():\n",
        "    print(product)"
      ]
    },
    {
      "cell_type": "code",
      "source": [
        "# Run a query to find products with above-average prices.\n",
        "\n",
        "pipeline = [\n",
        "    {\"$group\": {\"_id\": None, \"average\": {\"$avg\": \"$price\"}}}\n",
        "]\n",
        "average_price = 0\n",
        "\n",
        "print(\"Average price:\")\n",
        "for product in products.aggregate(pipeline):\n",
        "    average_price = product[\"average\"]\n",
        "    print(average_price)\n",
        "\n",
        "print(\"\\nProducts with above average price:\")\n",
        "for product in products.find({\"price\": {\"$gt\": average_price}}):\n",
        "    print(product)"
      ],
      "metadata": {
        "colab": {
          "base_uri": "https://localhost:8080/"
        },
        "id": "Oc6FJzYGUjYM",
        "outputId": "23a2139e-465f-48f9-9906-b8b863ed7232"
      },
      "id": "Oc6FJzYGUjYM",
      "execution_count": 59,
      "outputs": [
        {
          "output_type": "stream",
          "name": "stdout",
          "text": [
            "Average price:\n",
            "231.53333333333333\n",
            "\n",
            "Products with above average price:\n",
            "{'_id': ObjectId('6904306effb399241cce4290'), 'name': 'Laptop', 'price': 1200, 'stock': 22, 'category': 'Electronics'}\n",
            "{'_id': ObjectId('6904306effb399241cce4291'), 'name': 'Television', 'price': 800, 'stock': 32, 'category': 'Electronics'}\n",
            "{'_id': ObjectId('6904306effb399241cce4292'), 'name': 'Smartphone', 'price': 900, 'stock': 54, 'category': 'Electronics'}\n",
            "{'_id': ObjectId('6904306effb399241cce4298'), 'name': 'Monitor', 'price': 400, 'stock': 3, 'category': 'Electronics'}\n"
          ]
        }
      ]
    },
    {
      "cell_type": "code",
      "source": [
        "# Create an aggregation pipeline to calculate the total number of products in each category.\n",
        "\n",
        "pipeline = [\n",
        "    {\"$group\": {\"_id\": \"$category\", \"product_count\": {\"$sum\": \"$stock\"}}}\n",
        "]\n",
        "\n",
        "for product in products.aggregate(pipeline):\n",
        "    print(product)"
      ],
      "metadata": {
        "colab": {
          "base_uri": "https://localhost:8080/"
        },
        "id": "QDTj8xCcUv7U",
        "outputId": "fb044af1-1a32-4459-c179-991fac794b39"
      },
      "id": "QDTj8xCcUv7U",
      "execution_count": 60,
      "outputs": [
        {
          "output_type": "stream",
          "name": "stdout",
          "text": [
            "{'_id': 'Stationery', 'product_count': 76}\n",
            "{'_id': 'Clothes', 'product_count': 219}\n",
            "{'_id': 'Foods', 'product_count': 45}\n",
            "{'_id': 'Electronics', 'product_count': 265}\n"
          ]
        }
      ]
    },
    {
      "cell_type": "markdown",
      "source": [
        "### 5. Tasks\n",
        "- **Task 1**: Find the 5 highest-paid employees in each department, using the appropriate query or aggregation.\n",
        "- **Task 2**: Create a scenario where you need to remove employees under 25 from the database.\n",
        "- **Task 3**: Create a summary report (using a MongoDB query) that calculates the total salary of employees in each department, as well as the average employee age."
      ],
      "metadata": {
        "id": "oxQLKpIWNlyB"
      },
      "id": "oxQLKpIWNlyB"
    },
    {
      "cell_type": "code",
      "execution_count": 65,
      "id": "9758c83c-f043-4602-a56b-4108058993c7",
      "metadata": {
        "colab": {
          "base_uri": "https://localhost:8080/"
        },
        "id": "9758c83c-f043-4602-a56b-4108058993c7",
        "outputId": "74fed456-ad50-433b-f5ab-4baaebdbba49"
      },
      "outputs": [
        {
          "output_type": "execute_result",
          "data": {
            "text/plain": [
              "InsertManyResult([ObjectId('690430dcffb399241cce42bd'), ObjectId('690430dcffb399241cce42be'), ObjectId('690430dcffb399241cce42bf'), ObjectId('690430dcffb399241cce42c0'), ObjectId('690430dcffb399241cce42c1'), ObjectId('690430dcffb399241cce42c2'), ObjectId('690430dcffb399241cce42c3'), ObjectId('690430dcffb399241cce42c4'), ObjectId('690430dcffb399241cce42c5'), ObjectId('690430dcffb399241cce42c6'), ObjectId('690430dcffb399241cce42c7'), ObjectId('690430dcffb399241cce42c8'), ObjectId('690430dcffb399241cce42c9'), ObjectId('690430dcffb399241cce42ca'), ObjectId('690430dcffb399241cce42cb'), ObjectId('690430dcffb399241cce42cc'), ObjectId('690430dcffb399241cce42cd'), ObjectId('690430dcffb399241cce42ce'), ObjectId('690430dcffb399241cce42cf'), ObjectId('690430dcffb399241cce42d0'), ObjectId('690430dcffb399241cce42d1'), ObjectId('690430dcffb399241cce42d2'), ObjectId('690430dcffb399241cce42d3'), ObjectId('690430dcffb399241cce42d4'), ObjectId('690430dcffb399241cce42d5'), ObjectId('690430dcffb399241cce42d6'), ObjectId('690430dcffb399241cce42d7'), ObjectId('690430dcffb399241cce42d8'), ObjectId('690430dcffb399241cce42d9'), ObjectId('690430dcffb399241cce42da')], acknowledged=True)"
            ]
          },
          "metadata": {},
          "execution_count": 65
        }
      ],
      "source": [
        "# Start with an empty collection\n",
        "collection.delete_many({})\n",
        "\n",
        "collection.insert_many([\n",
        "    {\"name\": \"Carl\", \"department\": \"Sales\", \"age\": 32, \"salary\": 4500},\n",
        "    {\"name\": \"Eleanor Vance\", \"department\": \"Sales\", \"age\": 28, \"salary\": 4200},\n",
        "    {\"name\": \"Marcus Thorne\", \"department\": \"Sales\", \"age\": 40, \"salary\": 5800},\n",
        "    {\"name\": \"Jessica Lee\", \"department\": \"Sales\", \"age\": 25, \"salary\": 4000},\n",
        "    {\"name\": \"David Chen\", \"department\": \"Sales\", \"age\": 38, \"salary\": 5100},\n",
        "    {\"name\": \"Emily White\", \"department\": \"Sales\", \"age\": 27, \"salary\": 4800},\n",
        "    {\"name\": \"Daniel Green\", \"department\": \"Sales\", \"age\": 39, \"salary\": 6300},\n",
        "    {\"name\": \"Olivia Martinez\", \"department\": \"Sales\", \"age\": 31, \"salary\": 5000},\n",
        "    {\"name\": \"Steven Rogers\", \"department\": \"Sales\", \"age\": 24, \"salary\": 6500},\n",
        "    {\"name\": \"Brenda Fisher\", \"department\": \"Sales\", \"age\": 33, \"salary\": 4700},\n",
        "    {\"name\": \"Linda Davis\", \"department\": \"HR\", \"age\": 45, \"salary\": 6000},\n",
        "    {\"name\": \"Robert Adams\", \"department\": \"HR\", \"age\": 30, \"salary\": 4800},\n",
        "    {\"name\": \"Sophia Rodriguez\", \"department\": \"HR\", \"age\": 24, \"salary\": 5500},\n",
        "    {\"name\": \"Michael Chen\", \"department\": \"HR\", \"age\": 52, \"salary\": 7200},\n",
        "    {\"name\": \"Patricia Wilson\", \"department\": \"HR\", \"age\": 29, \"salary\": 4700},\n",
        "    {\"name\": \"James Gordon\", \"department\": \"HR\", \"age\": 55, \"salary\": 8000},\n",
        "    {\"name\": \"Kimberly Miller\", \"department\": \"HR\", \"age\": 24, \"salary\": 5300},\n",
        "    {\"name\": \"Richard Clark\", \"department\": \"HR\", \"age\": 41, \"salary\": 6100},\n",
        "    {\"name\": \"Nancy Hall\", \"department\": \"HR\", \"age\": 24, \"salary\": 4500},\n",
        "    {\"name\": \"George Evans\", \"department\": \"HR\", \"age\": 48, \"salary\": 6800},\n",
        "    {\"name\": \"Sarah Johnson\", \"department\": \"Finance\", \"age\": 34, \"salary\": 5200},\n",
        "    {\"name\": \"Kevin Brown\", \"department\": \"Finance\", \"age\": 47, \"salary\": 7500},\n",
        "    {\"name\": \"David Wilson\", \"department\": \"Finance\", \"age\": 24, \"salary\": 6300},\n",
        "    {\"name\": \"Maria Garcia\", \"department\": \"Finance\", \"age\": 31, \"salary\": 5000},\n",
        "    {\"name\": \"John Doe\", \"department\": \"Finance\", \"age\": 50, \"salary\": 8200},\n",
        "    {\"name\": \"Lisa Taylor\", \"department\": \"Finance\", \"age\": 29, \"salary\": 4900},\n",
        "    {\"name\": \"Paul Lewis\", \"department\": \"Finance\", \"age\": 42, \"salary\": 6800},\n",
        "    {\"name\": \"Susan Clark\", \"department\": \"Finance\", \"age\": 37, \"salary\": 5900},\n",
        "    {\"name\": \"Gary Miller\", \"department\": \"Finance\", \"age\": 51, \"salary\": 8500},\n",
        "    {\"name\": \"Michelle Adams\", \"department\": \"Finance\", \"age\": 30, \"salary\": 5100}\n",
        "])"
      ]
    },
    {
      "cell_type": "code",
      "source": [
        "# Find the 5 highest-paid employees in each department, using the appropriate query or aggregation.\n",
        "\n",
        "pipeline = [\n",
        "    {\"$sort\": {\"salary\": -1}},\n",
        "    {\"$group\": {\"_id\": \"$department\", \"documents\": {\"$push\": \"$$ROOT\"}}},\n",
        "    {\"$project\": {\"_id\": 1, \"documents\": {\"$slice\": [\"$documents\", 5]}}}\n",
        "]\n",
        "\n",
        "for group in collection.aggregate(pipeline):\n",
        "    print(f\"\\n{group['_id']}\")\n",
        "    for employee in group[\"documents\"]:\n",
        "        print(employee)"
      ],
      "metadata": {
        "colab": {
          "base_uri": "https://localhost:8080/"
        },
        "id": "4jEkla3ZOEXu",
        "outputId": "544adafd-a98e-4e31-cba5-4c07d0d056b7"
      },
      "id": "4jEkla3ZOEXu",
      "execution_count": 66,
      "outputs": [
        {
          "output_type": "stream",
          "name": "stdout",
          "text": [
            "\n",
            "Finance\n",
            "{'_id': ObjectId('690430dcffb399241cce42d9'), 'name': 'Gary Miller', 'department': 'Finance', 'age': 51, 'salary': 8500}\n",
            "{'_id': ObjectId('690430dcffb399241cce42d5'), 'name': 'John Doe', 'department': 'Finance', 'age': 50, 'salary': 8200}\n",
            "{'_id': ObjectId('690430dcffb399241cce42d2'), 'name': 'Kevin Brown', 'department': 'Finance', 'age': 47, 'salary': 7500}\n",
            "{'_id': ObjectId('690430dcffb399241cce42d7'), 'name': 'Paul Lewis', 'department': 'Finance', 'age': 42, 'salary': 6800}\n",
            "{'_id': ObjectId('690430dcffb399241cce42d3'), 'name': 'David Wilson', 'department': 'Finance', 'age': 24, 'salary': 6300}\n",
            "\n",
            "HR\n",
            "{'_id': ObjectId('690430dcffb399241cce42cc'), 'name': 'James Gordon', 'department': 'HR', 'age': 55, 'salary': 8000}\n",
            "{'_id': ObjectId('690430dcffb399241cce42ca'), 'name': 'Michael Chen', 'department': 'HR', 'age': 52, 'salary': 7200}\n",
            "{'_id': ObjectId('690430dcffb399241cce42d0'), 'name': 'George Evans', 'department': 'HR', 'age': 48, 'salary': 6800}\n",
            "{'_id': ObjectId('690430dcffb399241cce42ce'), 'name': 'Richard Clark', 'department': 'HR', 'age': 41, 'salary': 6100}\n",
            "{'_id': ObjectId('690430dcffb399241cce42c7'), 'name': 'Linda Davis', 'department': 'HR', 'age': 45, 'salary': 6000}\n",
            "\n",
            "Sales\n",
            "{'_id': ObjectId('690430dcffb399241cce42c5'), 'name': 'Steven Rogers', 'department': 'Sales', 'age': 24, 'salary': 6500}\n",
            "{'_id': ObjectId('690430dcffb399241cce42c3'), 'name': 'Daniel Green', 'department': 'Sales', 'age': 39, 'salary': 6300}\n",
            "{'_id': ObjectId('690430dcffb399241cce42bf'), 'name': 'Marcus Thorne', 'department': 'Sales', 'age': 40, 'salary': 5800}\n",
            "{'_id': ObjectId('690430dcffb399241cce42c1'), 'name': 'David Chen', 'department': 'Sales', 'age': 38, 'salary': 5100}\n",
            "{'_id': ObjectId('690430dcffb399241cce42c4'), 'name': 'Olivia Martinez', 'department': 'Sales', 'age': 31, 'salary': 5000}\n"
          ]
        }
      ]
    },
    {
      "cell_type": "code",
      "execution_count": 67,
      "id": "a91a4349-c9d0-477a-a72b-bed9ab987ab4",
      "metadata": {
        "colab": {
          "base_uri": "https://localhost:8080/"
        },
        "id": "a91a4349-c9d0-477a-a72b-bed9ab987ab4",
        "outputId": "4630b9ed-b86f-4c3f-fa76-f6ea80bb5534"
      },
      "outputs": [
        {
          "output_type": "stream",
          "name": "stdout",
          "text": [
            "\n",
            "Deleted 5 documents:\n",
            "{'_id': ObjectId('690430dcffb399241cce42bd'), 'name': 'Carl', 'department': 'Sales', 'age': 32, 'salary': 4500}\n",
            "{'_id': ObjectId('690430dcffb399241cce42be'), 'name': 'Eleanor Vance', 'department': 'Sales', 'age': 28, 'salary': 4200}\n",
            "{'_id': ObjectId('690430dcffb399241cce42bf'), 'name': 'Marcus Thorne', 'department': 'Sales', 'age': 40, 'salary': 5800}\n",
            "{'_id': ObjectId('690430dcffb399241cce42c0'), 'name': 'Jessica Lee', 'department': 'Sales', 'age': 25, 'salary': 4000}\n",
            "{'_id': ObjectId('690430dcffb399241cce42c1'), 'name': 'David Chen', 'department': 'Sales', 'age': 38, 'salary': 5100}\n",
            "{'_id': ObjectId('690430dcffb399241cce42c2'), 'name': 'Emily White', 'department': 'Sales', 'age': 27, 'salary': 4800}\n",
            "{'_id': ObjectId('690430dcffb399241cce42c3'), 'name': 'Daniel Green', 'department': 'Sales', 'age': 39, 'salary': 6300}\n",
            "{'_id': ObjectId('690430dcffb399241cce42c4'), 'name': 'Olivia Martinez', 'department': 'Sales', 'age': 31, 'salary': 5000}\n",
            "{'_id': ObjectId('690430dcffb399241cce42c6'), 'name': 'Brenda Fisher', 'department': 'Sales', 'age': 33, 'salary': 4700}\n",
            "{'_id': ObjectId('690430dcffb399241cce42c7'), 'name': 'Linda Davis', 'department': 'HR', 'age': 45, 'salary': 6000}\n",
            "{'_id': ObjectId('690430dcffb399241cce42c8'), 'name': 'Robert Adams', 'department': 'HR', 'age': 30, 'salary': 4800}\n",
            "{'_id': ObjectId('690430dcffb399241cce42ca'), 'name': 'Michael Chen', 'department': 'HR', 'age': 52, 'salary': 7200}\n",
            "{'_id': ObjectId('690430dcffb399241cce42cb'), 'name': 'Patricia Wilson', 'department': 'HR', 'age': 29, 'salary': 4700}\n",
            "{'_id': ObjectId('690430dcffb399241cce42cc'), 'name': 'James Gordon', 'department': 'HR', 'age': 55, 'salary': 8000}\n",
            "{'_id': ObjectId('690430dcffb399241cce42ce'), 'name': 'Richard Clark', 'department': 'HR', 'age': 41, 'salary': 6100}\n",
            "{'_id': ObjectId('690430dcffb399241cce42d0'), 'name': 'George Evans', 'department': 'HR', 'age': 48, 'salary': 6800}\n",
            "{'_id': ObjectId('690430dcffb399241cce42d1'), 'name': 'Sarah Johnson', 'department': 'Finance', 'age': 34, 'salary': 5200}\n",
            "{'_id': ObjectId('690430dcffb399241cce42d2'), 'name': 'Kevin Brown', 'department': 'Finance', 'age': 47, 'salary': 7500}\n",
            "{'_id': ObjectId('690430dcffb399241cce42d4'), 'name': 'Maria Garcia', 'department': 'Finance', 'age': 31, 'salary': 5000}\n",
            "{'_id': ObjectId('690430dcffb399241cce42d5'), 'name': 'John Doe', 'department': 'Finance', 'age': 50, 'salary': 8200}\n",
            "{'_id': ObjectId('690430dcffb399241cce42d6'), 'name': 'Lisa Taylor', 'department': 'Finance', 'age': 29, 'salary': 4900}\n",
            "{'_id': ObjectId('690430dcffb399241cce42d7'), 'name': 'Paul Lewis', 'department': 'Finance', 'age': 42, 'salary': 6800}\n",
            "{'_id': ObjectId('690430dcffb399241cce42d8'), 'name': 'Susan Clark', 'department': 'Finance', 'age': 37, 'salary': 5900}\n",
            "{'_id': ObjectId('690430dcffb399241cce42d9'), 'name': 'Gary Miller', 'department': 'Finance', 'age': 51, 'salary': 8500}\n",
            "{'_id': ObjectId('690430dcffb399241cce42da'), 'name': 'Michelle Adams', 'department': 'Finance', 'age': 30, 'salary': 5100}\n"
          ]
        }
      ],
      "source": [
        "# Create a scenario where you need to remove employees under 25 from the database.\n",
        "\n",
        "query_filter = {\"age\": {\"$lt\": 25}}\n",
        "result = collection.delete_many(query_filter)\n",
        "\n",
        "print(f\"\\nDeleted {result.deleted_count} documents:\")\n",
        "for employee in collection.find():\n",
        "    print(employee)"
      ]
    },
    {
      "cell_type": "code",
      "source": [
        "# Create a summary report (using a MongoDB query) that calculates the total salary of employees in each department, as well as the average employee age.\n",
        "\n",
        "pipeline = [\n",
        "    {'$group': {\n",
        "        '_id': '$department',\n",
        "        'total_salary': {'$sum': '$salary'},\n",
        "        'average_age': {'$avg': '$age'}\n",
        "    }}\n",
        "]\n",
        "\n",
        "for employee in collection.aggregate(pipeline):\n",
        "    print(employee)"
      ],
      "metadata": {
        "colab": {
          "base_uri": "https://localhost:8080/"
        },
        "id": "SqRgfu6oOciU",
        "outputId": "482d4231-1360-42b6-fe56-a5c9d63cbe7f"
      },
      "id": "SqRgfu6oOciU",
      "execution_count": 68,
      "outputs": [
        {
          "output_type": "stream",
          "name": "stdout",
          "text": [
            "{'_id': 'Sales', 'total_salary': 44400, 'average_age': 32.55555555555556}\n",
            "{'_id': 'HR', 'total_salary': 43600, 'average_age': 42.857142857142854}\n",
            "{'_id': 'Finance', 'total_salary': 57100, 'average_age': 39.0}\n"
          ]
        }
      ]
    }
  ],
  "metadata": {
    "kernelspec": {
      "display_name": "Python 3 (ipykernel)",
      "language": "python",
      "name": "python3"
    },
    "language_info": {
      "codemirror_mode": {
        "name": "ipython",
        "version": 3
      },
      "file_extension": ".py",
      "mimetype": "text/x-python",
      "name": "python",
      "nbconvert_exporter": "python",
      "pygments_lexer": "ipython3",
      "version": "3.13.5"
    },
    "colab": {
      "provenance": []
    }
  },
  "nbformat": 4,
  "nbformat_minor": 5
}