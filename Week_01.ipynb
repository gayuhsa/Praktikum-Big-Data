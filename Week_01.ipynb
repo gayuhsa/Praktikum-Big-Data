{
  "nbformat": 4,
  "nbformat_minor": 0,
  "metadata": {
    "colab": {
      "provenance": []
    },
    "kernelspec": {
      "name": "python3",
      "display_name": "Python 3"
    },
    "language_info": {
      "name": "python"
    }
  },
  "cells": [
    {
      "cell_type": "code",
      "execution_count": null,
      "metadata": {
        "id": "HhoksHva_SYB"
      },
      "outputs": [],
      "source": [
        "!pip list"
      ]
    },
    {
      "cell_type": "markdown",
      "source": [
        "## Tugas 1\n",
        "Jalankan kode di atas dan buat modifikasi dengan menambahkan data lain berupa kolom pekerjaan, hobi dan gender.\n",
        "\n",
        "Program awal:"
      ],
      "metadata": {
        "id": "09zTEch_AkeL"
      }
    },
    {
      "cell_type": "code",
      "source": [
        "from pyspark.sql import SparkSession\n",
        "\n",
        "# Memulai Spark session\n",
        "spark = SparkSession.builder.appName(\"BigDataPractice\").getOrCreate()\n",
        "\n",
        "# Membuat DataFrame sederhana\n",
        "data = [\n",
        "    (\"Ali\", 34),\n",
        "    (\"Budi\", 23),\n",
        "    (\"Citra\", 29),\n",
        "    (\"Dina\", 45)\n",
        "]\n",
        "columns = [\"Nama\", \"Usia\"]\n",
        "df = spark.createDataFrame(data, columns)\n",
        "\n",
        "# Menampilkan DataFrame\n",
        "df.show()"
      ],
      "metadata": {
        "id": "b5khPT4sAbgb"
      },
      "execution_count": null,
      "outputs": []
    },
    {
      "cell_type": "markdown",
      "source": [
        "Program yang sudah dimodifikasi:"
      ],
      "metadata": {
        "id": "stSjTm9dAvCx"
      }
    },
    {
      "cell_type": "code",
      "source": [
        "from pyspark.sql import SparkSession\n",
        "\n",
        "spark = SparkSession.builder.appName(\"BigDataPractice\").getOrCreate()\n",
        "\n",
        "data = [\n",
        "    (\"Ali\", 34, \"Petani\", \"Berkebun\", \"Laki-laki\"),\n",
        "    (\"Budi\", 23, \"Pedagang\", \"Bersepeda\", \"Laki-laki\"),\n",
        "    (\"Citra\", 29, \"Guru\", \"Membaca\", \"Perempuan\"),\n",
        "    (\"Dina\", 45, \"Penulis\", \"Menulis\", \"Perempuan\")\n",
        "]\n",
        "columns = [\"Nama\", \"Usia\", \"Pekerjaan\", \"Hobi\", \"Gender\"]\n",
        "df = spark.createDataFrame(data, columns)\n",
        "\n",
        "df.show()"
      ],
      "metadata": {
        "id": "jqsKxBItAvG6"
      },
      "execution_count": null,
      "outputs": []
    },
    {
      "cell_type": "markdown",
      "source": [
        "## Tugas 2\n",
        "Lakukan filter, penghitungan rata-rata, dan pengurutan data menggunakan PySpark.\n",
        "\n",
        "Program awal:"
      ],
      "metadata": {
        "id": "8-AqZW3hBfAS"
      }
    },
    {
      "cell_type": "code",
      "source": [
        "from pyspark.sql import SparkSession\n",
        "\n",
        "# Memulai Spark session\n",
        "spark = SparkSession.builder.appName(\"BigDataPractice\").getOrCreate()\n",
        "\n",
        "# Membuat DataFrame sederhana\n",
        "data = [\n",
        "    (\"Ali\", 34),\n",
        "    (\"Budi\", 23),\n",
        "    (\"Citra\", 29),\n",
        "    (\"Dina\", 45)\n",
        "]\n",
        "columns = [\"Nama\", \"Usia\"]\n",
        "df = spark.createDataFrame(data, columns)\n",
        "\n",
        "# Menampilkan DataFrame\n",
        "print(\"DataFrame awal\")\n",
        "df.show()\n",
        "\n",
        "# Filtering data\n",
        "print(\"DataFrame yang sudah difilter\")\n",
        "df_filtered = df.filter(df['Usia'] > 30)\n",
        "df_filtered.show()\n",
        "\n",
        "# Menghitung rata-rata usia\n",
        "print(\"DataFrame yang berisi rata-rata usia\")\n",
        "from pyspark.sql.functions import avg\n",
        "df.groupBy().agg(avg(\"Usia\")).show()\n",
        "\n",
        "# Mengurutkan data berdasarkan usia\n",
        "print(\"DataFrame awal jika diurutkan berdasarkan usia (descending)\")\n",
        "df_sorted = df.orderBy(\"Usia\", ascending=False)\n",
        "df_sorted.show()\n",
        "\n",
        "print(\"\\nDataFrame awal jika diurutkan berdasarkan usia (ascending)\")\n",
        "df_sorted = df.orderBy(\"Usia\", ascending=True)\n",
        "df_sorted.show()"
      ],
      "metadata": {
        "id": "Q5yrlx86BfGB"
      },
      "execution_count": null,
      "outputs": []
    },
    {
      "cell_type": "markdown",
      "source": [
        "Program yang sudah dimodifikasi dengan menambahkan kolom `Pekerjaan`, `Hobi`, dan `Gender`:"
      ],
      "metadata": {
        "id": "4L5MXBsYDUXq"
      }
    },
    {
      "cell_type": "code",
      "source": [
        "from pyspark.sql import SparkSession\n",
        "\n",
        "# Memulai Spark session\n",
        "spark = SparkSession.builder.appName(\"BigDataPractice\").getOrCreate()\n",
        "\n",
        "# Membuat DataFrame sederhana\n",
        "data = [\n",
        "    (\"Ali\", 34, \"Petani\", \"Berkebun\", \"Laki-laki\"),\n",
        "    (\"Budi\", 23, \"Pedagang\", \"Bersepeda\", \"Laki-laki\"),\n",
        "    (\"Citra\", 29, \"Guru\", \"Membaca\", \"Perempuan\"),\n",
        "    (\"Dina\", 45, \"Penulis\", \"Menulis\", \"Perempuan\")\n",
        "]\n",
        "columns = [\"Nama\", \"Usia\", \"Pekerjaan\", \"Hobi\", \"Gender\"]\n",
        "df = spark.createDataFrame(data, columns)\n",
        "\n",
        "# Menampilkan DataFrame\n",
        "print(\"DataFrame awal\")\n",
        "df.show()\n",
        "\n",
        "# Filtering data\n",
        "print(\"DataFrame yang sudah difilter\")\n",
        "df_filtered = df.filter(df[\"Usia\"] > 30)\n",
        "df_filtered.show()\n",
        "\n",
        "# Menghitung rata-rata usia\n",
        "print(\"DataFrame yang berisi rata-rata usia\")\n",
        "from pyspark.sql.functions import avg\n",
        "df.groupBy().agg(avg(\"Usia\").alias(\"Usia Rata-Rata\")).show()\n",
        "\n",
        "# Mengurutkan data berdasarkan usia\n",
        "print(\"DataFrame awal jika diurutkan berdasarkan usia (descending)\")\n",
        "df_sorted = df.orderBy(\"Usia\", ascending=False)\n",
        "df_sorted.show()\n",
        "\n",
        "print(\"\\nDataFrame awal jika diurutkan berdasarkan usia (ascending)\")\n",
        "df_sorted = df.orderBy(\"Usia\", ascending=True)\n",
        "df_sorted.show()"
      ],
      "metadata": {
        "id": "268rH5MLBnhK"
      },
      "execution_count": null,
      "outputs": []
    },
    {
      "cell_type": "markdown",
      "source": [
        "## Tugas 3\n",
        "Modifikasi DataFrame Pandas dengan menambahkan kolom baru dan melakukan operasi seperti filtering data berdasarkan usia.\n",
        "\n",
        "Program awal:"
      ],
      "metadata": {
        "id": "1P58pk0QDI1K"
      }
    },
    {
      "cell_type": "code",
      "source": [
        "import pandas\n",
        "\n",
        "# Membuat DataFrame Pandas\n",
        "data_pandas = {\n",
        "    \"Nama\": [\"Ali\", \"Budi\", \"Citra\", \"Dina\"],\n",
        "    \"Usia\": [34, 23, 29, 45]\n",
        "}\n",
        "df_pandas = pandas.DataFrame(data_pandas)\n",
        "\n",
        "# Menampilkan DataFrame Pandas\n",
        "df_pandas"
      ],
      "metadata": {
        "id": "f9-XklOlDI8x"
      },
      "execution_count": null,
      "outputs": []
    },
    {
      "cell_type": "markdown",
      "source": [
        "Program yang sudah dimodifikasi dengan menambahkan kolom `Pekerjaan`, `Hobi`, dan `Gender`:"
      ],
      "metadata": {
        "id": "K5tOJyfGDJLC"
      }
    },
    {
      "cell_type": "code",
      "source": [
        "import pandas\n",
        "\n",
        "# Membuat DataFrame Pandas\n",
        "data_pandas = {\n",
        "    \"Nama\": [\"Ali\", \"Budi\", \"Citra\", \"Dina\"],\n",
        "    \"Usia\": [34, 23, 29, 45],\n",
        "    \"Pekerjaan\": [\"Petani\", \"Pedagang\", \"Guru\", \"Penulis\"],\n",
        "    \"Hobi\": [\"Berkebun\", \"Bersepeda\", \"Membaca\", \"Menulis\"],\n",
        "    \"Gender\": [\"Laki-laki\", \"Laki-laki\", \"Perempuan\", \"Perempuan\"]\n",
        "}\n",
        "df_pandas = pandas.DataFrame(data_pandas)\n",
        "\n",
        "# Menampilkan DataFrame Pandas\n",
        "print(\"Sebelum Difilter:\")\n",
        "print(df_pandas)\n",
        "\n",
        "print(\"\\nSetelah Difilter:\")\n",
        "print(df_pandas[df_pandas[\"Usia\"] > 30])"
      ],
      "metadata": {
        "id": "-B3mQDV0DJRT"
      },
      "execution_count": null,
      "outputs": []
    },
    {
      "cell_type": "markdown",
      "source": [
        "## Tugas 4\n",
        "Lakukan penggabungan DataFrame dan visualisasikan data dengan Pandas.\n",
        "\n",
        "Program awal:"
      ],
      "metadata": {
        "id": "nSoEILDsFUgq"
      }
    },
    {
      "cell_type": "code",
      "source": [
        "import pandas\n",
        "\n",
        "# Membuat DataFrame Pandas\n",
        "data_pandas = {\n",
        "    \"Nama\": [\"Ali\", \"Budi\", \"Citra\", \"Dina\"],\n",
        "    \"Usia\": [34, 23, 29, 45]\n",
        "}\n",
        "df_pandas = pandas.DataFrame(data_pandas)\n",
        "\n",
        "# Membuat DataFrame kedua\n",
        "data_pandas_2 = {\n",
        "    \"Nama\": [\"Ali\", \"Budi\", \"Citra\", \"Dina\"],\n",
        "    \"Pekerjaan\": [\"Dokter\", \"Guru\", \"Insinyur\", \"Perawat\"]\n",
        "}\n",
        "df_pandas_2 = pandas.DataFrame(data_pandas_2)\n",
        "\n",
        "# Join antara dua DataFrame\n",
        "df_joined = pandas.merge(df_pandas, df_pandas_2, on=\"Nama\")\n",
        "print(df_joined)\n",
        "\n",
        "# Menghitung statistik deskriptif\n",
        "print(df_pandas.describe())\n",
        "\n",
        "# Plotting Data\n",
        "import matplotlib.pyplot as plt\n",
        "df_pandas['Usia'].plot(kind='bar')\n",
        "plt.show()"
      ],
      "metadata": {
        "id": "I1sFuzyXFVe5"
      },
      "execution_count": null,
      "outputs": []
    },
    {
      "cell_type": "markdown",
      "source": [
        "Program yang sudah dimodifikasi dengan menambahkan kolom `Pekerjaan`, `Hobi`, dan `Gender`:"
      ],
      "metadata": {
        "id": "8UzEn1zEFVtC"
      }
    },
    {
      "cell_type": "code",
      "source": [
        "import matplotlib.pyplot as plt\n",
        "import pandas\n",
        "\n",
        "# Membuat DataFrame Pandas\n",
        "data_pandas = {\n",
        "    \"Nama\": [\"Ali\", \"Budi\", \"Citra\", \"Dina\"],\n",
        "    \"Usia\": [34, 23, 29, 45]\n",
        "}\n",
        "df_pandas = pandas.DataFrame(data_pandas)\n",
        "\n",
        "# Membuat DataFrame kedua\n",
        "data_pandas_2 = {\n",
        "    \"Nama\": [\"Ali\", \"Budi\", \"Citra\", \"Dina\"],\n",
        "    \"Pekerjaan\": [\"Petani\", \"Pedagang\", \"Guru\", \"Penulis\"],\n",
        "    \"Hobi\": [\"Berkebun\", \"Bersepeda\", \"Membaca\", \"Menulis\"],\n",
        "    \"Gender\": [\"Laki-laki\", \"Laki-laki\", \"Perempuan\", \"Perempuan\"]\n",
        "}\n",
        "df_pandas_2 = pandas.DataFrame(data_pandas_2)\n",
        "\n",
        "# Join antara dua DataFrame\n",
        "df_joined = pandas.merge(df_pandas, df_pandas_2, on=\"Nama\")\n",
        "print(df_joined)\n",
        "\n",
        "# Menghitung statistik deskriptif\n",
        "print(df_pandas.describe())\n",
        "\n",
        "# Plotting Data\n",
        "df_pandas[\"Usia\"].plot(kind=\"bar\")\n",
        "plt.show()"
      ],
      "metadata": {
        "id": "woLGweUTFVzb"
      },
      "execution_count": null,
      "outputs": []
    },
    {
      "cell_type": "markdown",
      "source": [
        "## Tugas 5\n",
        "Gunakan metode ini untuk menggabungkan data yang Anda buat di PySpark dengan data dari Pandas, kemudian lakukan analisis sederhana seperti menghitung rata-rata usia."
      ],
      "metadata": {
        "id": "CROg36LAGqvy"
      }
    },
    {
      "cell_type": "code",
      "source": [
        "import pandas\n",
        "import matplotlib.pyplot as plt\n",
        "\n",
        "from pyspark.sql import SparkSession\n",
        "\n",
        "spark = SparkSession.builder.appName(\"BigDataPractice\").getOrCreate()\n",
        "\n",
        "\n",
        "# Data PySpark\n",
        "pyspark_data = [\n",
        "    (\"Ali\", 34),\n",
        "    (\"Budi\", 23),\n",
        "    (\"Citra\", 29),\n",
        "    (\"Dina\", 45)\n",
        "]\n",
        "pyspark_columns = [\"Nama\", \"Usia\"]\n",
        "pyspark_df = spark.createDataFrame(pyspark_data, pyspark_columns)\n",
        "\n",
        "print(\"PySpark:\")\n",
        "pyspark_df.show()\n",
        "\n",
        "\n",
        "# Konversi data dari PySpark ke Pandas\n",
        "df_pandas_1 = pyspark_df.toPandas()\n",
        "\n",
        "print(\"Konversi PySpark ke Pandas:\")\n",
        "print(df_pandas_1)\n",
        "\n",
        "\n",
        "# Data Pandas\n",
        "data_pandas_2 = {\n",
        "    \"Nama\": [\"Ali\", \"Budi\", \"Citra\", \"Dina\"],\n",
        "    \"Pekerjaan\": [\"Petani\", \"Pedagang\", \"Guru\", \"Penulis\"],\n",
        "    \"Hobi\": [\"Berkebun\", \"Bersepeda\", \"Membaca\", \"Menulis\"],\n",
        "    \"Gender\": [\"Laki-laki\", \"Laki-laki\", \"Perempuan\", \"Perempuan\"]\n",
        "}\n",
        "df_pandas_2 = pandas.DataFrame(data_pandas_2)\n",
        "\n",
        "print(\"\\nPandas:\")\n",
        "print(df_pandas_2)\n",
        "\n",
        "\n",
        "# Gabungkan df_pandas_1 dan df_pandas_2\n",
        "df_joined = pandas.merge(df_pandas_1, df_pandas_2, on=\"Nama\")\n",
        "\n",
        "print(\"\\nJoin:\")\n",
        "print(df_joined)\n",
        "\n",
        "# Operasi statistik\n",
        "print(\"\\nBeberapa operasi statistik dalam kolom \\\"Usia\\\"\")\n",
        "print(f\"Tertinggi\\t: {df_joined['Usia'].max()}\")\n",
        "print(f\"Rata-rata\\t: {df_joined['Usia'].mean()}\")\n",
        "print(f\"Terendah\\t: {df_joined['Usia'].min()}\")\n",
        "print(f\"Median\\t\\t: {df_joined['Usia'].median()}\")\n",
        "print(f\"Jumlah\\t\\t: {df_joined['Usia'].sum()}\")\n",
        "\n",
        "\n",
        "# Tampilkan df_joined menggunakan matplotlib\n",
        "print(\"\\n\")\n",
        "df_joined[\"Usia\"].plot(kind=\"bar\")\n",
        "plt.title(\"Matplotlib:\", loc=\"left\")\n",
        "plt.xlabel(\"X\")\n",
        "plt.ylabel(\"Usia\")\n",
        "plt.show()"
      ],
      "metadata": {
        "id": "u1Zklj0bGrUJ"
      },
      "execution_count": null,
      "outputs": []
    },
    {
      "cell_type": "markdown",
      "source": [
        "## Tugas 6\n",
        "Gabungkan data dari PySpark dan Pandas, lalu lakukan operasi statistik seperti menghitung nilai maksimum usia."
      ],
      "metadata": {
        "id": "K9gUcElcLezy"
      }
    },
    {
      "cell_type": "code",
      "source": [
        "import pandas\n",
        "import matplotlib.pyplot as plt\n",
        "\n",
        "from pyspark.sql import SparkSession\n",
        "\n",
        "spark = SparkSession.builder.appName(\"BigDataPractice\").getOrCreate()\n",
        "\n",
        "\n",
        "# Data PySpark\n",
        "pyspark_data = [\n",
        "    (\"Ali\", 34),\n",
        "    (\"Budi\", 23),\n",
        "    (\"Citra\", 29),\n",
        "    (\"Dina\", 45)\n",
        "]\n",
        "pyspark_columns = [\"Nama\", \"Usia\"]\n",
        "pyspark_df = spark.createDataFrame(pyspark_data, pyspark_columns)\n",
        "\n",
        "print(\"PySpark:\")\n",
        "pyspark_df.show()\n",
        "\n",
        "\n",
        "# Konversi data dari PySpark ke Pandas\n",
        "df_pandas_1 = pyspark_df.toPandas()\n",
        "\n",
        "print(\"Konversi PySpark ke Pandas:\")\n",
        "print(df_pandas_1)\n",
        "\n",
        "\n",
        "# Data Pandas\n",
        "data_pandas_2 = {\n",
        "    \"Nama\": [\"Ali\", \"Budi\", \"Citra\", \"Dina\"],\n",
        "    \"Pekerjaan\": [\"Petani\", \"Pedagang\", \"Guru\", \"Penulis\"],\n",
        "    \"Hobi\": [\"Berkebun\", \"Bersepeda\", \"Membaca\", \"Menulis\"],\n",
        "    \"Gender\": [\"Laki-laki\", \"Laki-laki\", \"Perempuan\", \"Perempuan\"]\n",
        "}\n",
        "df_pandas_2 = pandas.DataFrame(data_pandas_2)\n",
        "\n",
        "print(\"\\nPandas:\")\n",
        "print(df_pandas_2)\n",
        "\n",
        "\n",
        "# Gabungkan df_pandas_1 dan df_pandas_2\n",
        "df_joined = pandas.merge(df_pandas_1, df_pandas_2, on=\"Nama\")\n",
        "\n",
        "print(\"\\nJoin:\")\n",
        "print(df_joined)\n",
        "\n",
        "\n",
        "# Operasi statistik\n",
        "print(\"\\nBeberapa operasi statistik dalam kolom \\\"Usia\\\"\")\n",
        "print(f\"Tertinggi\\t: {df_joined['Usia'].max()}\")\n",
        "print(f\"Rata-rata\\t: {df_joined['Usia'].mean()}\")\n",
        "print(f\"Terendah\\t: {df_joined['Usia'].min()}\")\n",
        "print(f\"Median\\t\\t: {df_joined['Usia'].median()}\")\n",
        "print(f\"Jumlah\\t\\t: {df_joined['Usia'].sum()}\")"
      ],
      "metadata": {
        "id": "8v-vsxxYLfES"
      },
      "execution_count": null,
      "outputs": []
    }
  ]
}